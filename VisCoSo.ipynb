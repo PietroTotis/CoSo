{
 "cells": [
  {
   "cell_type": "markdown",
   "id": "19680f42",
   "metadata": {},
   "source": [
    "# Tutorial: CoLa and CoSo\n",
    "\n",
    "CoLa and CoSo provide a framework for solving combinatorial counting problems. CoLa is a language to declare simple combinatorics problems, CoSo is a solver for CoLa and provides an explanation of the solution. \n",
    "The content of this tutorial is based on the publication:\n",
    "> *Pietro Totis, Jesse Davis, Luc De Raedt, Angelika Kimmig: <br>\n",
    "> Lifted Reasoning for Combinatorial Counting. J. Artif. Intell. Res. 76: 1-58 (2023)*\n",
    "\n",
    "\n",
    "In this tutorial we consider the following setup:\n",
    "> A kit of toy shapes contains five triangles and two squares. One triangle and one square are red. Another triangle and the other square are blue, and the remaining triangles are green. \n",
    "\n",
    "And solve the following problems:\n",
    "\n",
    "> **P1**: In how many different rows of four objects can the shapes be arranged if the two squares are included and the second object is green?\n",
    "\n",
    "> **P2**: In how many ways can the objects be divided into three(non-empty) groups such that the green objects all belong to the same group?\n"
   ]
  },
  {
   "cell_type": "markdown",
   "id": "e35fd9dd",
   "metadata": {},
   "source": [
    "## CoSo\n",
    "\n",
    "CoSo can be installed via pip as a Python package with:\n",
    "\n",
    "    pip install coso\n",
    "    \n",
    "While if you are running a notebook use the following:"
   ]
  },
  {
   "cell_type": "code",
   "execution_count": 1,
   "id": "96c66ede",
   "metadata": {
    "scrolled": true
   },
   "outputs": [
    {
     "name": "stdout",
     "output_type": "stream",
     "text": [
      "Requirement already satisfied: coso in ./pyenv/lib/python3.11/site-packages (1.1.0)\n",
      "Requirement already satisfied: portion in ./pyenv/lib/python3.11/site-packages (from coso) (2.4.0)\n",
      "Requirement already satisfied: clingo==5.5.1 in ./pyenv/lib/python3.11/site-packages (from coso) (5.5.1)\n",
      "Requirement already satisfied: psutil in ./pyenv/lib/python3.11/site-packages (from coso) (5.9.5)\n",
      "Requirement already satisfied: yattag in ./pyenv/lib/python3.11/site-packages (from coso) (1.15.1)\n",
      "Requirement already satisfied: ply in ./pyenv/lib/python3.11/site-packages (from coso) (3.11)\n",
      "Requirement already satisfied: anywidget in ./pyenv/lib/python3.11/site-packages (from coso) (0.3.0)\n",
      "Requirement already satisfied: cffi in ./pyenv/lib/python3.11/site-packages (from clingo==5.5.1->coso) (1.15.1)\n",
      "Requirement already satisfied: ipywidgets>=7.6.0 in ./pyenv/lib/python3.11/site-packages (from anywidget->coso) (8.0.6)\n",
      "Requirement already satisfied: psygnal>=0.8.1 in ./pyenv/lib/python3.11/site-packages (from anywidget->coso) (0.9.0)\n",
      "Requirement already satisfied: typing-extensions>=4.2.0 in ./pyenv/lib/python3.11/site-packages (from anywidget->coso) (4.5.0)\n",
      "Requirement already satisfied: sortedcontainers~=2.2 in ./pyenv/lib/python3.11/site-packages (from portion->coso) (2.4.0)\n",
      "Requirement already satisfied: ipykernel>=4.5.1 in ./pyenv/lib/python3.11/site-packages (from ipywidgets>=7.6.0->anywidget->coso) (6.23.0)\n",
      "Requirement already satisfied: ipython>=6.1.0 in ./pyenv/lib/python3.11/site-packages (from ipywidgets>=7.6.0->anywidget->coso) (8.13.2)\n",
      "Requirement already satisfied: traitlets>=4.3.1 in ./pyenv/lib/python3.11/site-packages (from ipywidgets>=7.6.0->anywidget->coso) (5.9.0)\n",
      "Requirement already satisfied: widgetsnbextension~=4.0.7 in ./pyenv/lib/python3.11/site-packages (from ipywidgets>=7.6.0->anywidget->coso) (4.0.7)\n",
      "Requirement already satisfied: jupyterlab-widgets~=3.0.7 in ./pyenv/lib/python3.11/site-packages (from ipywidgets>=7.6.0->anywidget->coso) (3.0.7)\n",
      "Requirement already satisfied: mypy-extensions in ./pyenv/lib/python3.11/site-packages (from psygnal>=0.8.1->anywidget->coso) (1.0.0)\n",
      "Requirement already satisfied: pycparser in ./pyenv/lib/python3.11/site-packages (from cffi->clingo==5.5.1->coso) (2.21)\n",
      "Requirement already satisfied: comm>=0.1.1 in ./pyenv/lib/python3.11/site-packages (from ipykernel>=4.5.1->ipywidgets>=7.6.0->anywidget->coso) (0.1.3)\n",
      "Requirement already satisfied: debugpy>=1.6.5 in ./pyenv/lib/python3.11/site-packages (from ipykernel>=4.5.1->ipywidgets>=7.6.0->anywidget->coso) (1.6.7)\n",
      "Requirement already satisfied: jupyter-client>=6.1.12 in ./pyenv/lib/python3.11/site-packages (from ipykernel>=4.5.1->ipywidgets>=7.6.0->anywidget->coso) (8.2.0)\n",
      "Requirement already satisfied: jupyter-core!=5.0.*,>=4.12 in ./pyenv/lib/python3.11/site-packages (from ipykernel>=4.5.1->ipywidgets>=7.6.0->anywidget->coso) (5.3.0)\n",
      "Requirement already satisfied: matplotlib-inline>=0.1 in ./pyenv/lib/python3.11/site-packages (from ipykernel>=4.5.1->ipywidgets>=7.6.0->anywidget->coso) (0.1.6)\n",
      "Requirement already satisfied: nest-asyncio in ./pyenv/lib/python3.11/site-packages (from ipykernel>=4.5.1->ipywidgets>=7.6.0->anywidget->coso) (1.5.6)\n",
      "Requirement already satisfied: packaging in ./pyenv/lib/python3.11/site-packages (from ipykernel>=4.5.1->ipywidgets>=7.6.0->anywidget->coso) (23.1)\n",
      "Requirement already satisfied: pyzmq>=20 in ./pyenv/lib/python3.11/site-packages (from ipykernel>=4.5.1->ipywidgets>=7.6.0->anywidget->coso) (25.0.2)\n",
      "Requirement already satisfied: tornado>=6.1 in ./pyenv/lib/python3.11/site-packages (from ipykernel>=4.5.1->ipywidgets>=7.6.0->anywidget->coso) (6.3.1)\n",
      "Requirement already satisfied: backcall in ./pyenv/lib/python3.11/site-packages (from ipython>=6.1.0->ipywidgets>=7.6.0->anywidget->coso) (0.2.0)\n",
      "Requirement already satisfied: decorator in ./pyenv/lib/python3.11/site-packages (from ipython>=6.1.0->ipywidgets>=7.6.0->anywidget->coso) (5.1.1)\n",
      "Requirement already satisfied: jedi>=0.16 in ./pyenv/lib/python3.11/site-packages (from ipython>=6.1.0->ipywidgets>=7.6.0->anywidget->coso) (0.18.2)\n",
      "Requirement already satisfied: pickleshare in ./pyenv/lib/python3.11/site-packages (from ipython>=6.1.0->ipywidgets>=7.6.0->anywidget->coso) (0.7.5)\n",
      "Requirement already satisfied: prompt-toolkit!=3.0.37,<3.1.0,>=3.0.30 in ./pyenv/lib/python3.11/site-packages (from ipython>=6.1.0->ipywidgets>=7.6.0->anywidget->coso) (3.0.38)\n",
      "Requirement already satisfied: pygments>=2.4.0 in ./pyenv/lib/python3.11/site-packages (from ipython>=6.1.0->ipywidgets>=7.6.0->anywidget->coso) (2.15.1)\n",
      "Requirement already satisfied: stack-data in ./pyenv/lib/python3.11/site-packages (from ipython>=6.1.0->ipywidgets>=7.6.0->anywidget->coso) (0.6.2)\n",
      "Requirement already satisfied: pexpect>4.3 in ./pyenv/lib/python3.11/site-packages (from ipython>=6.1.0->ipywidgets>=7.6.0->anywidget->coso) (4.8.0)\n",
      "Requirement already satisfied: parso<0.9.0,>=0.8.0 in ./pyenv/lib/python3.11/site-packages (from jedi>=0.16->ipython>=6.1.0->ipywidgets>=7.6.0->anywidget->coso) (0.8.3)\n",
      "Requirement already satisfied: python-dateutil>=2.8.2 in ./pyenv/lib/python3.11/site-packages (from jupyter-client>=6.1.12->ipykernel>=4.5.1->ipywidgets>=7.6.0->anywidget->coso) (2.8.2)\n",
      "Requirement already satisfied: platformdirs>=2.5 in ./pyenv/lib/python3.11/site-packages (from jupyter-core!=5.0.*,>=4.12->ipykernel>=4.5.1->ipywidgets>=7.6.0->anywidget->coso) (3.5.0)\n",
      "Requirement already satisfied: ptyprocess>=0.5 in ./pyenv/lib/python3.11/site-packages (from pexpect>4.3->ipython>=6.1.0->ipywidgets>=7.6.0->anywidget->coso) (0.7.0)\n",
      "Requirement already satisfied: wcwidth in ./pyenv/lib/python3.11/site-packages (from prompt-toolkit!=3.0.37,<3.1.0,>=3.0.30->ipython>=6.1.0->ipywidgets>=7.6.0->anywidget->coso) (0.2.6)\n",
      "Requirement already satisfied: executing>=1.2.0 in ./pyenv/lib/python3.11/site-packages (from stack-data->ipython>=6.1.0->ipywidgets>=7.6.0->anywidget->coso) (1.2.0)\n",
      "Requirement already satisfied: asttokens>=2.1.0 in ./pyenv/lib/python3.11/site-packages (from stack-data->ipython>=6.1.0->ipywidgets>=7.6.0->anywidget->coso) (2.2.1)\n",
      "Requirement already satisfied: pure-eval in ./pyenv/lib/python3.11/site-packages (from stack-data->ipython>=6.1.0->ipywidgets>=7.6.0->anywidget->coso) (0.2.2)\n",
      "Requirement already satisfied: six in ./pyenv/lib/python3.11/site-packages (from asttokens>=2.1.0->stack-data->ipython>=6.1.0->ipywidgets>=7.6.0->anywidget->coso) (1.16.0)\n"
     ]
    }
   ],
   "source": [
    "!pip install --upgrade coso"
   ]
  },
  {
   "cell_type": "markdown",
   "id": "b9e97e0c",
   "metadata": {},
   "source": [
    "The source code is available on [Github](https://github.com/PietroTotis/CoSo).\n",
    "The solver can be then called with the function `run_coso`, either with the parameter `file=*path_to_file*` to run CoSo on a file containing a CoLa problem, or with the parameter `cola=*string*` to give the solver a python string with the problem encoding, as in the following example:"
   ]
  },
  {
   "cell_type": "code",
   "execution_count": 7,
   "id": "024d6958",
   "metadata": {
    "scrolled": true
   },
   "outputs": [
    {
     "name": "stdout",
     "output_type": "stream",
     "text": [
      "18 (8 subproblems)\n"
     ]
    }
   ],
   "source": [
    "from coso.launcher import run_coso\n",
    "\n",
    "problem_1 = \"\"\"\n",
    "    property shapes = {square_red, square_blue, \n",
    "                       triangle_red, triangle_blue, \n",
    "                       triangle_green, triangle_green, \n",
    "                       triangle_green\n",
    "                       };\n",
    "    property red = {triangle_red, square_red};\n",
    "    property blue = {triangle_blue, square_blue};\n",
    "    property green = {triangle_green};\n",
    "    property triangle = {triangle_red, triangle_blue, triangle_green};\n",
    "    property square = {square_blue, square_red};\n",
    "\n",
    "    \n",
    "    row in [shapes];\n",
    "    #row = 4;\n",
    "    \n",
    "    row[2] = green;\n",
    "    \n",
    "    #(row & square) = 2;\n",
    "\"\"\"\n",
    "solution = run_coso(cola=problem_1)\n",
    "print(solution)"
   ]
  },
  {
   "cell_type": "markdown",
   "id": "f2051b80",
   "metadata": {},
   "source": [
    "CoSo can also generate visual descriptions of the solving procedures with the function `run_viscoso` which takes the same arguments as `coso`, plus an optional parameter `visual=*path_to_file*` which specifies an html file where the visual representation should be written. Then the file can be opened in a web browser.\n",
    "In a jupyter notebook the visual interface is provided with a widget:"
   ]
  },
  {
   "cell_type": "markdown",
   "id": "5811c306",
   "metadata": {},
   "source": [
    "> Tip: for a better visualization select 'Cell' -> 'All output' -> 'Toggle Scrolling'"
   ]
  },
  {
   "cell_type": "code",
   "execution_count": 2,
   "id": "f10c1ae2",
   "metadata": {
    "scrolled": false
   },
   "outputs": [
    {
     "data": {
      "application/vnd.jupyter.widget-view+json": {
       "model_id": "e2a07ccd3c0846458d65ec5e345102f5",
       "version_major": 2,
       "version_minor": 0
      },
      "text/plain": [
       "HTML(value='\\n            <script type=\"text/javascript\" src=\"http://cdn.mathjax.org/mathjax/latest/MathJax.js…"
      ]
     },
     "metadata": {},
     "output_type": "display_data"
    },
    {
     "data": {
      "application/vnd.jupyter.widget-view+json": {
       "model_id": "73aee867bf74455082f282e4e5804c3e",
       "version_major": 2,
       "version_minor": 0
      },
      "text/plain": [
       "VBox(children=(Box(children=(Label(value='Upload a CoLa program:'), FileUpload(value=(), description='Upload')…"
      ]
     },
     "metadata": {},
     "output_type": "display_data"
    },
    {
     "data": {
      "application/vnd.jupyter.widget-view+json": {
       "model_id": "c8568fd2154344a3a315b95a6084817e",
       "version_major": 2,
       "version_minor": 0
      },
      "text/plain": [
       "Button(description='Solve', icon='check', style=ButtonStyle(), tooltip='Solve')"
      ]
     },
     "metadata": {},
     "output_type": "display_data"
    },
    {
     "ename": "FileNotFoundError",
     "evalue": "[Errno 2] No such file or directory: '/mnt/windows/Users/pietr/Desktop/PhD/CoSo/pyenv/lib/python3.11/site-packages/src/VisCoSo/viscoso.css'",
     "output_type": "error",
     "traceback": [
      "\u001b[0;31m---------------------------------------------------------------------------\u001b[0m",
      "\u001b[0;31mFileNotFoundError\u001b[0m                         Traceback (most recent call last)",
      "File \u001b[0;32m/mnt/windows/Users/pietr/Desktop/PhD/CoSo/pyenv/lib/python3.11/site-packages/coso/viscoso_widget.py:77\u001b[0m, in \u001b[0;36mWidget.output_layout.<locals>.on_button_solve\u001b[0;34m(b)\u001b[0m\n\u001b[1;32m     75\u001b[0m parser\u001b[38;5;241m.\u001b[39mparse()\n\u001b[1;32m     76\u001b[0m sol \u001b[38;5;241m=\u001b[39m parser\u001b[38;5;241m.\u001b[39mproblem\u001b[38;5;241m.\u001b[39msolve(debug\u001b[38;5;241m=\u001b[39m\u001b[38;5;28;01mFalse\u001b[39;00m)\n\u001b[0;32m---> 77\u001b[0m \u001b[38;5;28;43mself\u001b[39;49m\u001b[38;5;241;43m.\u001b[39;49m\u001b[43mviscoso_widget\u001b[49m\u001b[43m(\u001b[49m\u001b[43msol\u001b[49m\u001b[43m)\u001b[49m\n\u001b[1;32m     78\u001b[0m \u001b[38;5;28mself\u001b[39m\u001b[38;5;241m.\u001b[39mcurrent_output \u001b[38;5;241m=\u001b[39m output\n\u001b[1;32m     79\u001b[0m display(output)\n",
      "File \u001b[0;32m/mnt/windows/Users/pietr/Desktop/PhD/CoSo/pyenv/lib/python3.11/site-packages/coso/viscoso_widget.py:106\u001b[0m, in \u001b[0;36mWidget.viscoso_widget\u001b[0;34m(self, sol)\u001b[0m\n\u001b[1;32m    102\u001b[0m \u001b[38;5;28;01mdef\u001b[39;00m \u001b[38;5;21mviscoso_widget\u001b[39m(\u001b[38;5;28mself\u001b[39m, sol):\n\u001b[1;32m    104\u001b[0m     html \u001b[38;5;241m=\u001b[39m sol\u001b[38;5;241m.\u001b[39mlog\u001b[38;5;241m.\u001b[39mto_viscoso_widget()\n\u001b[0;32m--> 106\u001b[0m \u001b[43m    \u001b[49m\u001b[38;5;28;43;01mclass\u001b[39;49;00m\u001b[43m \u001b[49m\u001b[38;5;21;43;01mVisCoSoWidget\u001b[39;49;00m\u001b[43m(\u001b[49m\u001b[43manywidget\u001b[49m\u001b[38;5;241;43m.\u001b[39;49m\u001b[43mAnyWidget\u001b[49m\u001b[43m)\u001b[49m\u001b[43m:\u001b[49m\n\u001b[1;32m    107\u001b[0m \u001b[43m        \u001b[49m\u001b[43m_esm\u001b[49m\u001b[43m \u001b[49m\u001b[38;5;241;43m=\u001b[39;49m\u001b[43m \u001b[49m\u001b[38;5;124;43m\"\"\"\u001b[39;49m\n\u001b[1;32m    108\u001b[0m \u001b[38;5;124;43m        function appendHtml(el, str) \u001b[39;49m\u001b[38;5;124;43m{\u001b[39;49m\n\u001b[1;32m    109\u001b[0m \u001b[38;5;124;43m            var div = document.createElement(\u001b[39;49m\u001b[38;5;124;43m'\u001b[39;49m\u001b[38;5;124;43mdiv\u001b[39;49m\u001b[38;5;124;43m'\u001b[39;49m\u001b[38;5;124;43m);\u001b[39;49m\n\u001b[0;32m   (...)\u001b[0m\n\u001b[1;32m    120\u001b[0m \u001b[38;5;124;43m        }\u001b[39;49m\n\u001b[1;32m    121\u001b[0m \u001b[38;5;124;43m        \u001b[39;49m\u001b[38;5;124;43m\"\"\"\u001b[39;49m\n\u001b[1;32m    122\u001b[0m \u001b[43m        \u001b[49m\u001b[43m_css\u001b[49m\u001b[43m \u001b[49m\u001b[38;5;241;43m=\u001b[39;49m\u001b[43m \u001b[49m\u001b[38;5;28;43mopen\u001b[39;49m\u001b[43m(\u001b[49m\u001b[43mCSS_VISCOSO\u001b[49m\u001b[43m,\u001b[49m\u001b[43m \u001b[49m\u001b[38;5;124;43m\"\u001b[39;49m\u001b[38;5;124;43mr\u001b[39;49m\u001b[38;5;124;43m\"\u001b[39;49m\u001b[43m)\u001b[49m\u001b[38;5;241;43m.\u001b[39;49m\u001b[43mread\u001b[49m\u001b[43m(\u001b[49m\u001b[43m)\u001b[49m\n",
      "File \u001b[0;32m/mnt/windows/Users/pietr/Desktop/PhD/CoSo/pyenv/lib/python3.11/site-packages/coso/viscoso_widget.py:122\u001b[0m, in \u001b[0;36mWidget.viscoso_widget.<locals>.VisCoSoWidget\u001b[0;34m()\u001b[0m\n\u001b[1;32m    106\u001b[0m \u001b[38;5;28;01mclass\u001b[39;00m \u001b[38;5;21;01mVisCoSoWidget\u001b[39;00m(anywidget\u001b[38;5;241m.\u001b[39mAnyWidget):\n\u001b[1;32m    107\u001b[0m     _esm \u001b[38;5;241m=\u001b[39m \u001b[38;5;124m\"\"\"\u001b[39m\n\u001b[1;32m    108\u001b[0m \u001b[38;5;124m    function appendHtml(el, str) \u001b[39m\u001b[38;5;124m{\u001b[39m\n\u001b[1;32m    109\u001b[0m \u001b[38;5;124m        var div = document.createElement(\u001b[39m\u001b[38;5;124m'\u001b[39m\u001b[38;5;124mdiv\u001b[39m\u001b[38;5;124m'\u001b[39m\u001b[38;5;124m);\u001b[39m\n\u001b[0;32m   (...)\u001b[0m\n\u001b[1;32m    120\u001b[0m \u001b[38;5;124m    }\u001b[39m\n\u001b[1;32m    121\u001b[0m \u001b[38;5;124m    \u001b[39m\u001b[38;5;124m\"\"\"\u001b[39m\n\u001b[0;32m--> 122\u001b[0m     _css \u001b[38;5;241m=\u001b[39m \u001b[38;5;28;43mopen\u001b[39;49m\u001b[43m(\u001b[49m\u001b[43mCSS_VISCOSO\u001b[49m\u001b[43m,\u001b[49m\u001b[43m \u001b[49m\u001b[38;5;124;43m\"\u001b[39;49m\u001b[38;5;124;43mr\u001b[39;49m\u001b[38;5;124;43m\"\u001b[39;49m\u001b[43m)\u001b[49m\u001b[38;5;241m.\u001b[39mread()\n\u001b[1;32m    123\u001b[0m     value \u001b[38;5;241m=\u001b[39m traitlets\u001b[38;5;241m.\u001b[39mUnicode(html)\u001b[38;5;241m.\u001b[39mtag(sync\u001b[38;5;241m=\u001b[39m\u001b[38;5;28;01mTrue\u001b[39;00m)\n",
      "\u001b[0;31mFileNotFoundError\u001b[0m: [Errno 2] No such file or directory: '/mnt/windows/Users/pietr/Desktop/PhD/CoSo/pyenv/lib/python3.11/site-packages/src/VisCoSo/viscoso.css'"
     ]
    }
   ],
   "source": [
    "from coso.viscoso_widget import show_widget\n",
    "\n",
    "show_widget()"
   ]
  },
  {
   "cell_type": "markdown",
   "id": "5633e4b8",
   "metadata": {},
   "source": [
    "\n",
    "## CoLa\n",
    "\n",
    "\n",
    "Three components define a CoLa problem:\n",
    "1. A (multi)set of objects, e.g. the toy shapes\n",
    "2. A configuration, e.g. the row\n",
    "3. Constraints, e.g. two squares are included\n",
    "    \n",
    "\n",
    "### 1. Objects\n",
    "\n",
    "In CoLa the (multi)set of objects is called *universe* and *properties* are subsets of the universe denoting a group of objects that have something in common.\n",
    "Objects are declared in two ways: explicitly or implicitly.\n",
    "\n",
    "#### Explicit\n",
    "The explicit declaration of universe and properties corresponds to the enumeration of the objects. Repeated/identical objects (if a multiset) are expressed by repeating the label as many times as the number of identical copies of the object.\n",
    "\n",
    "    property shapes = {square_red, square_blue, \n",
    "                       triangle_red, triangle_blue, \n",
    "                       triangle_green, triangle_green, \n",
    "                       triangle_green\n",
    "                       };\n",
    "    property red = {triangle_red, square_red};\n",
    "    property blue = {triangle_blue, square_blue};\n",
    "    property green = {triangle_green};\n",
    "    property triangle = {triangle_red, triangle_blue, triangle_green};\n",
    "    property square = {square_blue, square_red};\n",
    "\n",
    "#### Implicit\n",
    "The implicit declaration corresponds to the definition of the size of each property (cf. constraints) and their intersections:\n",
    "\n",
    "    property red;\n",
    "    #red=2;\n",
    "    property blue;  \n",
    "    #blue=2;\n",
    "    property green;\n",
    "    #green=3;\n",
    "\n",
    "    property triangle; \n",
    "    #triangle=5;\n",
    "    property square;\n",
    "    #square=2;\n",
    "\n",
    "    #square&red=1; \n",
    "    #square&blue=1; \n",
    "    #triangle&red=1;\n",
    "    #triangle&blue=1;  \n",
    "    #triangle&green=3;\n",
    "\n",
    "Base properties can be composed with set operations: and (`&`), or (`+`), complement (`¬`). The complement is computed with respect to the universe.\n",
    "\n",
    "### 2. Configuration\n",
    "Configurations define how objects should be arranged. CoLa offers six types of configurations: [sequences](https://en.wikipedia.org/wiki/Sequence), [permutations](https://en.wikipedia.org/wiki/Permutation), [multisubsets](https://en.wikipedia.org/wiki/Multiset#Counting_multisets), [subset](https://en.wikipedia.org/wiki/Combination), [partition](https://en.wikipedia.org/wiki/Partition_(number_theory)) and [composition](https://en.wikipedia.org/wiki/Composition_(combinatorics)).\n",
    "\n",
    "A set of possible configurations is specified by the (multi)set of objects, e.g. *shapes*, and its type. The type is expressed as follows:\n",
    "1. sequences: `[repeated shapes]`\n",
    "2. permutations: `[shapes]`\n",
    "3. multisubsets: `{repeated shapes}`\n",
    "4. subsets: `{shapes}`\n",
    "5. partitions: `{{shapes}}`\n",
    "6. compositions: `[{shapes}]`\n",
    "\n",
    "In CoLa a label associated to the configuration denotes any of the possible configurations with the keyword `in`:\n",
    "\n",
    "    row in [shapes];\n",
    "    groups in {{shapes}};\n",
    "\n",
    "### 3. Constraints\n",
    "Constraints in CoLa are of three types:\n",
    "1. Size constraints\n",
    "2. Counting constraints\n",
    "3. Positional constraints\n",
    "\n",
    "#### 3.1 Size constraints\n",
    "Size constraints define the number of objects in a group or in a configuration.\n",
    "Implicit declarations of the objects are an example of size constraints where the comparison operator is an equality:\n",
    "\n",
    "    #red=2;  #blue=2;  #green=3;\n",
    "    \n",
    "and the size of the configuration can be defined in the same way:\n",
    "\n",
    "    row in [shapes];\n",
    "    #row = 4;\n",
    "\n",
    "    groups in {{shapes}};\n",
    "    #groups = 3;\n",
    "but all the other typical comparison operators can be used to specify the size of the configurations, for instance:\n",
    "    #row < 5;\n",
    "    #groups != 4;\n",
    "#### 3.2 Counting constraints\n",
    "Counting constraints count the number of objects with some property in a configuration or a level 2 group.\n",
    "All comparison operators can also be used to describe the desired number.\n",
    "\n",
    "    #(row & square) = 2;\n",
    "    #(row & square) < 4;\n",
    "    #(row & square) != 1;\n",
    "    \n",
    "With level 2 configurations the constraints can be nested, either counting constraints or size constraints, the keyword *part* can be used to refer to a generic group of the configuration. For example:\n",
    "\n",
    "    #( #part & green = 3 ) = 1;\n",
    "    \n",
    "#### 3.3 Positional constraints\n",
    "Positional constraints apply only to ordered configurations and are used to denote a specific position in the configuration. The position can be assigned a specific property depending on the type of the position, that is, an object in level 1 configurations or a group in level 2 configurations.\n",
    "In level 1 configurations a (level 1) property can be assigned to a specific position with the = operator:\n",
    "\n",
    "    row[2] = green;\n",
    "In compositions (ordered level 2 configurations) both size and counting constraints can be used to express a property of a group in a given position, for example:\n",
    "\n",
    "    pos_groups in [{shapes}];\n",
    "\n",
    "    #pos_groups[1] >= 3;\n",
    "    #( pos_groups[2]&triangles ) <= 2;"
   ]
  },
  {
   "cell_type": "code",
   "execution_count": null,
   "id": "909b4baa",
   "metadata": {
    "scrolled": true
   },
   "outputs": [],
   "source": []
  }
 ],
 "metadata": {
  "kernelspec": {
   "display_name": "Python 3 (ipykernel)",
   "language": "python",
   "name": "python3"
  },
  "language_info": {
   "codemirror_mode": {
    "name": "ipython",
    "version": 3
   },
   "file_extension": ".py",
   "mimetype": "text/x-python",
   "name": "python",
   "nbconvert_exporter": "python",
   "pygments_lexer": "ipython3",
   "version": "3.11.2"
  }
 },
 "nbformat": 4,
 "nbformat_minor": 5
}

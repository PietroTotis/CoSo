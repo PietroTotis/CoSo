{
 "cells": [
  {
   "cell_type": "markdown",
   "id": "b0ee7f23",
   "metadata": {},
   "source": [
    "# Tutorial: CoLa and CoSo\n",
    "\n",
    "CoLa and CoSo provide a framework for solving combinatorial counting problems. CoLa is a language to declare simple combinatorics problems, CoSo is a solver for CoLa and provides an explanation of the solution. \n",
    "The content of this tutorial is based on the publication:\n",
    "> *Pietro Totis, Jesse Davis, Luc De Raedt, Angelika Kimmig: <br>\n",
    "> Lifted Reasoning for Combinatorial Counting. J. Artif. Intell. Res. 76: 1-58 (2023)*"
   ]
  },
  {
   "cell_type": "markdown",
   "id": "713ccfc0",
   "metadata": {},
   "source": [
    "## CoLa\n",
    "\n",
    "In this tutorial we consider the following setup:\n",
    "> A kit of toy shapes contains five triangles and two squares. One triangle and one square are red. Another triangle and the other square are blue, and the remaining triangles are green. \n",
    "\n",
    "And solve the following problems:\n",
    "\n",
    "> **P1**: In how many different rows of four objects can the shapes be arranged if the two squares are included and the second object is green?\n",
    "\n",
    "> **P2**: In how many ways can the objects be divided into three(non-empty) groups such that the green objects all belong to the same group?\n",
    "\n",
    "Three components define a CoLa problem:\n",
    "1. A (multi)set of objects, e.g. the toy shapes\n",
    "2. A configuration, e.g. the row\n",
    "3. Constraints, e.g. two squares are included\n",
    "    \n",
    "\n",
    "### 1. Objects\n",
    "\n",
    "In CoLa the (multi)set of objects is called *universe* and *properties* are subsets of the universe denoting a group of objects that have something in common.\n",
    "Objects are declared in two ways: explicitly or implicitly.\n",
    "\n",
    "#### Explicit\n",
    "The explicit declaration of universe and properties corresponds to the enumeration of the objects. Repeated/identical objects (if a multiset) are expressed by repeating the label as many times as the number of identical copies of the object."
   ]
  },
  {
   "cell_type": "code",
   "execution_count": 14,
   "id": "d7f118af",
   "metadata": {},
   "outputs": [],
   "source": [
    "cola_explicit = \"\"\"\n",
    "property shapes ={square_red, square_blue, triangle_red, triangle_blue, triangle_green, triangle_green, triangle_green};\n",
    "property blue ={triangle_blue, square_blue};\n",
    "property green ={triangle_green};\n",
    "property triangle ={triangle_red, triangle_blue, triangle_green};\n",
    "property square ={square_blue square_red};\n",
    "\"\"\""
   ]
  },
  {
   "cell_type": "markdown",
   "id": "0fe46f06",
   "metadata": {},
   "source": [
    "#### Implicit\n",
    "The implicit declaration corresponds to the definition of the size of each property (cf. constraints) and their intersections:"
   ]
  },
  {
   "cell_type": "code",
   "execution_count": 15,
   "id": "7b70c95e",
   "metadata": {},
   "outputs": [],
   "source": [
    "cola_implicit = \"\"\"\n",
    "property red;  property blue;  property green;\n",
    "#red=2;  #blue=2;  #green=3;\n",
    "\n",
    "property triangle; property square;\n",
    "#triangle=7; #square=2;\n",
    "\n",
    "#square&red=1; \n",
    "#square&blue=1; \n",
    "#triangle&red=1;\n",
    "#triangle&blue=1;  \n",
    "#triangle&green=3;\n",
    "\"\"\""
   ]
  },
  {
   "cell_type": "markdown",
   "id": "30895aa7",
   "metadata": {},
   "source": [
    "Base properties can be composed with set operations: and (`&`), or (`+`), complement (`¬`). The complement is computed with respect to the universe."
   ]
  },
  {
   "cell_type": "markdown",
   "id": "c060e934",
   "metadata": {},
   "source": [
    "### 2. Configuration\n",
    "Configurations define how objects should be arranged. CoLa offers six types of configurations: [sequences](https://en.wikipedia.org/wiki/Sequence), [permutations](https://en.wikipedia.org/wiki/Permutation), [multisubsets](https://en.wikipedia.org/wiki/Multiset#Counting_multisets), [subset](https://en.wikipedia.org/wiki/Combination), [partition](https://en.wikipedia.org/wiki/Partition_(number_theory)) and [composition](https://en.wikipedia.org/wiki/Composition_(combinatorics)).\n",
    "\n",
    "A set of possible configurations is specified by the (multi)set of objects, e.g. *shapes*, and its type. The type is expressed as follows:\n",
    "1. sequences: `[repeated shapes]`\n",
    "2. permutations: `[shapes]`\n",
    "3. multisubsets: `{repeated shapes}`\n",
    "4. subsets: `{shapes}`\n",
    "5. partitions: `{{shapes}}`\n",
    "6. compositions: `[{shapes}]`\n",
    "\n",
    "In CoLa a label associated to the configuration denotes any of the possible configurations with the keyword `in`:"
   ]
  },
  {
   "cell_type": "code",
   "execution_count": null,
   "id": "80cc2f61",
   "metadata": {},
   "outputs": [],
   "source": [
    "cola_config_row = \"row in [shapes];\"\n",
    "cola_config_groups = \"groups in {{shapes}}\""
   ]
  },
  {
   "cell_type": "markdown",
   "id": "e0a3d2f3",
   "metadata": {},
   "source": [
    "### 3. Constraints\n",
    "Constraints in CoLa either count some "
   ]
  },
  {
   "cell_type": "markdown",
   "id": "a5505605",
   "metadata": {},
   "source": [
    "## CoSo"
   ]
  },
  {
   "cell_type": "code",
   "execution_count": null,
   "id": "20242a2d",
   "metadata": {},
   "outputs": [],
   "source": [
    "import sys\n",
    "sys.path.append(\"src\")\n",
    "from launcher import coso"
   ]
  },
  {
   "cell_type": "code",
   "execution_count": 2,
   "id": "024d6958",
   "metadata": {},
   "outputs": [
    {
     "name": "stdout",
     "output_type": "stream",
     "text": [
      "Running solver...\n",
      "Solution: 2880 (12 subproblems)\n"
     ]
    }
   ],
   "source": [
    "coso(file=\"tests/check/test_2.txt\", visual=\"src/VisCoSo/prova.html\")"
   ]
  },
  {
   "cell_type": "code",
   "execution_count": null,
   "id": "f10c1ae2",
   "metadata": {},
   "outputs": [],
   "source": [
    "import sys\n",
    "sys.path.append(\"src\")\n",
    "from launcher import viscoso\n",
    "\n",
    "viscoso(file=\"tests/check/test_2.txt\")\n"
   ]
  },
  {
   "cell_type": "markdown",
   "id": "72447b90",
   "metadata": {},
   "source": [
    "```{raw} html\n",
    ":file: src/VisCoSo/prova.html\n",
    "```"
   ]
  },
  {
   "cell_type": "code",
   "execution_count": 12,
   "id": "87773fd9",
   "metadata": {
    "scrolled": true
   },
   "outputs": [
    {
     "data": {
      "application/vnd.jupyter.widget-view+json": {
       "model_id": "b2e1717df56a46dda6b72a322b48cbe1",
       "version_major": 2,
       "version_minor": 0
      },
      "text/plain": [
       "HTML(value='\\n            <script type=\"text/javascript\" src=\"http://cdn.mathjax.org/mathjax/latest/MathJax.js…"
      ]
     },
     "metadata": {},
     "output_type": "display_data"
    },
    {
     "data": {
      "application/vnd.jupyter.widget-view+json": {
       "model_id": "abb3c275ddfb4714bea7bf4df4168fed",
       "version_major": 2,
       "version_minor": 0
      },
      "text/plain": [
       "VBox(children=(Box(children=(Label(value='Upload a CoLa program:'), FileUpload(value=(), description='Upload')…"
      ]
     },
     "metadata": {},
     "output_type": "display_data"
    },
    {
     "data": {
      "application/vnd.jupyter.widget-view+json": {
       "model_id": "2fd39380d1af49d9800468bfbe1efa0d",
       "version_major": 2,
       "version_minor": 0
      },
      "text/plain": [
       "Button(description='Solve', icon='check', style=ButtonStyle(), tooltip='Solve')"
      ]
     },
     "metadata": {},
     "output_type": "display_data"
    },
    {
     "data": {
      "application/vnd.jupyter.widget-view+json": {
       "model_id": "aaed73d0eddf47b79e0c7ee3f26dce8d",
       "version_major": 2,
       "version_minor": 0
      },
      "text/plain": [
       "VisCoSoWidget()"
      ]
     },
     "metadata": {},
     "output_type": "display_data"
    }
   ],
   "source": [
    "import sys\n",
    "sys.path.append(\"src\")\n",
    "from VisCoSo_widget import viscoso\n",
    "viscoso()"
   ]
  },
  {
   "cell_type": "code",
   "execution_count": null,
   "id": "f7138fd0",
   "metadata": {},
   "outputs": [],
   "source": []
  }
 ],
 "metadata": {
  "kernelspec": {
   "display_name": "Python 3",
   "language": "python",
   "name": "python3"
  },
  "language_info": {
   "codemirror_mode": {
    "name": "ipython",
    "version": 3
   },
   "file_extension": ".py",
   "mimetype": "text/x-python",
   "name": "python",
   "nbconvert_exporter": "python",
   "pygments_lexer": "ipython3",
   "version": "3.8.10"
  }
 },
 "nbformat": 4,
 "nbformat_minor": 5
}

{
 "cells": [
  {
   "cell_type": "markdown",
   "id": "5633e4b8",
   "metadata": {},
   "source": [
    "# Tutorial: CoLa and CoSo\n",
    "\n",
    "CoLa and CoSo provide a framework for solving combinatorial counting problems. CoLa is a language to declare simple combinatorics problems, CoSo is a solver for CoLa and provides an explanation of the solution. \n",
    "The content of this tutorial is based on the publication:\n",
    "> *Pietro Totis, Jesse Davis, Luc De Raedt, Angelika Kimmig: <br>\n",
    "> Lifted Reasoning for Combinatorial Counting. J. Artif. Intell. Res. 76: 1-58 (2023)*\n",
    "\n",
    "## CoLa\n",
    "\n",
    "\n",
    "In this tutorial we consider the following setup:\n",
    "> A kit of toy shapes contains five triangles and two squares. One triangle and one square are red. Another triangle and the other square are blue, and the remaining triangles are green. \n",
    "\n",
    "And solve the following problems:\n",
    "\n",
    "> **P1**: In how many different rows of four objects can the shapes be arranged if the two squares are included and the second object is green?\n",
    "\n",
    "> **P2**: In how many ways can the objects be divided into three(non-empty) groups such that the green objects all belong to the same group?\n",
    "\n",
    "Three components define a CoLa problem:\n",
    "1. A (multi)set of objects, e.g. the toy shapes\n",
    "2. A configuration, e.g. the row\n",
    "3. Constraints, e.g. two squares are included\n",
    "    \n",
    "\n",
    "### 1. Objects\n",
    "\n",
    "In CoLa the (multi)set of objects is called *universe* and *properties* are subsets of the universe denoting a group of objects that have something in common.\n",
    "Objects are declared in two ways: explicitly or implicitly.\n",
    "\n",
    "#### Explicit\n",
    "The explicit declaration of universe and properties corresponds to the enumeration of the objects. Repeated/identical objects (if a multiset) are expressed by repeating the label as many times as the number of identical copies of the object.\n",
    "\n",
    "    property shapes = {square_red, square_blue, \n",
    "                       triangle_red, triangle_blue, \n",
    "                       triangle_green, triangle_green, \n",
    "                       triangle_green\n",
    "                       };\n",
    "    property red = {triangle_red, square_red};\n",
    "    property blue = {triangle_blue, square_blue};\n",
    "    property green = {triangle_green};\n",
    "    property triangle = {triangle_red, triangle_blue, triangle_green};\n",
    "    property square = {square_blue, square_red};\n",
    "\n",
    "#### Implicit\n",
    "The implicit declaration corresponds to the definition of the size of each property (cf. constraints) and their intersections:\n",
    "\n",
    "    property red;\n",
    "    #red=2;\n",
    "    property blue;  \n",
    "    #blue=2;\n",
    "    property green;\n",
    "    #green=3;\n",
    "\n",
    "    property triangle; \n",
    "    #triangle=7;\n",
    "    property square;\n",
    "    #square=2;\n",
    "\n",
    "    #square&red=1; \n",
    "    #square&blue=1; \n",
    "    #triangle&red=1;\n",
    "    #triangle&blue=1;  \n",
    "    #triangle&green=3;\n",
    "\n",
    "Base properties can be composed with set operations: and (`&`), or (`+`), complement (`¬`). The complement is computed with respect to the universe.\n",
    "\n",
    "### 2. Configuration\n",
    "Configurations define how objects should be arranged. CoLa offers six types of configurations: [sequences](https://en.wikipedia.org/wiki/Sequence), [permutations](https://en.wikipedia.org/wiki/Permutation), [multisubsets](https://en.wikipedia.org/wiki/Multiset#Counting_multisets), [subset](https://en.wikipedia.org/wiki/Combination), [partition](https://en.wikipedia.org/wiki/Partition_(number_theory)) and [composition](https://en.wikipedia.org/wiki/Composition_(combinatorics)).\n",
    "\n",
    "A set of possible configurations is specified by the (multi)set of objects, e.g. *shapes*, and its type. The type is expressed as follows:\n",
    "1. sequences: `[repeated shapes]`\n",
    "2. permutations: `[shapes]`\n",
    "3. multisubsets: `{repeated shapes}`\n",
    "4. subsets: `{shapes}`\n",
    "5. partitions: `{{shapes}}`\n",
    "6. compositions: `[{shapes}]`\n",
    "\n",
    "In CoLa a label associated to the configuration denotes any of the possible configurations with the keyword `in`:\n",
    "\n",
    "    row in [shapes];\n",
    "    groups in {{shapes}};\n",
    "\n",
    "### 3. Constraints\n",
    "Constraints in CoLa are of three types:\n",
    "1. Size constraints\n",
    "2. Counting constraints\n",
    "3. Positional constraints\n",
    "\n",
    "#### 3.1 Size constraints\n",
    "Size constraints define the number of objects in a group or in a configuration.\n",
    "Implicit declarations of the objects are an example of size constraints where the comparison operator is an equality:\n",
    "\n",
    "    #red=2;  #blue=2;  #green=3;\n",
    "    \n",
    "and the size of the configuration can be defined in the same way:\n",
    "\n",
    "    row in [shapes];\n",
    "    #row = 4;\n",
    "\n",
    "    groups in {{shapes}};\n",
    "    #groups = 3;\n",
    "but all the other typical comparison operators can be used to specify the size of the configurations, for instance:\n",
    "    #row < 5;\n",
    "    #groups != 4;\n",
    "#### 3.2 Counting constraints\n",
    "Counting constraints count the number of objects with some property in a configuration or a level 2 group.\n",
    "All comparison operators can also be used to describe the desired number.\n",
    "\n",
    "    #(row & square) = 2;\n",
    "    #(row & square) < 4;\n",
    "    #(row & square) != 1;\n",
    "    \n",
    "With level 2 configurations the constraints can be nested, either counting constraints or size constraints, the keyword *part* can be used to refer to a generic group of the configuration. For example:\n",
    "\n",
    "    #( #part & green = 3 ) = 1;\n",
    "    \n",
    "#### 3.3 Positional constraints\n",
    "Positional constraints apply only to ordered configurations and are used to denote a specific position in the configuration. The position can be assigned a specific property depending on the type of the position, that is, an object in level 1 configurations or a group in level 2 configurations.\n",
    "In level 1 configurations a (level 1) property can be assigned to a specific position with the = operator:\n",
    "\n",
    "    row[2] = green;\n",
    "In compositions (ordered level 2 configurations) both size and counting constraints can be used to express a property of a group in a given position, for example:\n",
    "\n",
    "    pos_groups in [{shapes}];\n",
    "\n",
    "    #pos_groups[1] >= 3;\n",
    "    #( pos_groups[2]&triangles ) <= 2;"
   ]
  },
  {
   "cell_type": "markdown",
   "id": "a5505605",
   "metadata": {},
   "source": [
    "## CoSo"
   ]
  },
  {
   "cell_type": "markdown",
   "id": "19680f42",
   "metadata": {},
   "source": [
    "CoSo can be installed via pip as a Python package with:\n",
    "\n",
    "    pip install coso\n",
    "    \n",
    "The source code is available on [Github](https://github.com/PietroTotis/CoSo).\n",
    "The solver can be then called with the function `coso`, either with the parameter `file=*path_to_file*` to run CoSo on a file containing a CoLa problem, or with the parameter `cola=*string*` to give the solver a python string with the problem encoding, as in the foolowing example:"
   ]
  },
  {
   "cell_type": "code",
   "execution_count": 3,
   "id": "024d6958",
   "metadata": {},
   "outputs": [
    {
     "name": "stdout",
     "output_type": "stream",
     "text": [
      "18 (8 subproblems)\n"
     ]
    }
   ],
   "source": [
    "from coso.launcher import run\n",
    "\n",
    "problem_1 = \"\"\"\n",
    "    property shapes = {square_red, square_blue, \n",
    "                       triangle_red, triangle_blue, \n",
    "                       triangle_green, triangle_green, \n",
    "                       triangle_green\n",
    "                       };\n",
    "    property red = {triangle_red, square_red};\n",
    "    property blue = {triangle_blue, square_blue};\n",
    "    property green = {triangle_green};\n",
    "    property triangle = {triangle_red, triangle_blue, triangle_green};\n",
    "    property square = {square_blue, square_red};\n",
    "\n",
    "    \n",
    "    row in [shapes];\n",
    "    #row = 4;\n",
    "    \n",
    "    row[2] = green;\n",
    "    \n",
    "    #(row & square) = 2;\n",
    "\"\"\"\n",
    "solution = run(cola=problem_1)\n",
    "print(solution)"
   ]
  },
  {
   "cell_type": "markdown",
   "id": "f2051b80",
   "metadata": {},
   "source": [
    "CoSo can also generate visual descriptions of the solving procedures with the function `viscoso` which takes the same arguments as `coso` with an additional parameter `visual=*path_to_file*` which specifies an html file where the visual representation should be written. Then the file can be opened in a web browser.\n",
    "In a jupyter notebook the visual interface is provided with a widget:"
   ]
  },
  {
   "cell_type": "code",
   "execution_count": 6,
   "id": "f10c1ae2",
   "metadata": {},
   "outputs": [
    {
     "data": {
      "application/vnd.jupyter.widget-view+json": {
       "model_id": "4cbe1c92cd434565a314944a85d07e3a",
       "version_major": 2,
       "version_minor": 0
      },
      "text/plain": [
       "HTML(value='\\n            <script type=\"text/javascript\" src=\"http://cdn.mathjax.org/mathjax/latest/MathJax.js…"
      ]
     },
     "metadata": {},
     "output_type": "display_data"
    },
    {
     "data": {
      "application/vnd.jupyter.widget-view+json": {
       "model_id": "2a134e398acc4bfeb77c84b9a29b993f",
       "version_major": 2,
       "version_minor": 0
      },
      "text/plain": [
       "VBox(children=(Box(children=(Label(value='Upload a CoLa program:'), FileUpload(value=(), description='Upload')…"
      ]
     },
     "metadata": {},
     "output_type": "display_data"
    },
    {
     "data": {
      "application/vnd.jupyter.widget-view+json": {
       "model_id": "3ba6f55587594725b928e6e8c7f3cb96",
       "version_major": 2,
       "version_minor": 0
      },
      "text/plain": [
       "Button(description='Solve', icon='check', style=ButtonStyle(), tooltip='Solve')"
      ]
     },
     "metadata": {},
     "output_type": "display_data"
    },
    {
     "ename": "FileNotFoundError",
     "evalue": "[Errno 2] No such file or directory: '/media/windows/Users/pietr/Desktop/PhD/CoSo/pyenv/lib/python3.8/site-packages/src/VisCoSo/css/viscoso.css'",
     "output_type": "error",
     "traceback": [
      "\u001b[0;31m---------------------------------------------------------------------------\u001b[0m",
      "\u001b[0;31mFileNotFoundError\u001b[0m                         Traceback (most recent call last)",
      "File \u001b[0;32m/media/windows/Users/pietr/Desktop/PhD/CoSo/pyenv/lib/python3.8/site-packages/coso/VisCoSo_widget.py:67\u001b[0m, in \u001b[0;36mWidget.output_layout.<locals>.on_button_solve\u001b[0;34m(b)\u001b[0m\n\u001b[1;32m     65\u001b[0m     parser\u001b[38;5;241m.\u001b[39mparse()\n\u001b[1;32m     66\u001b[0m     sol \u001b[38;5;241m=\u001b[39m parser\u001b[38;5;241m.\u001b[39mproblem\u001b[38;5;241m.\u001b[39msolve(debug\u001b[38;5;241m=\u001b[39m\u001b[38;5;28;01mFalse\u001b[39;00m)\n\u001b[0;32m---> 67\u001b[0m     \u001b[38;5;28;43mself\u001b[39;49m\u001b[38;5;241;43m.\u001b[39;49m\u001b[43mviscoso_widget\u001b[49m\u001b[43m(\u001b[49m\u001b[43msol\u001b[49m\u001b[43m)\u001b[49m\n\u001b[1;32m     68\u001b[0m \u001b[38;5;28;01mexcept\u001b[39;00m EmptyException:\n\u001b[1;32m     69\u001b[0m     \u001b[38;5;28;01mwith\u001b[39;00m output:\n",
      "File \u001b[0;32m/media/windows/Users/pietr/Desktop/PhD/CoSo/pyenv/lib/python3.8/site-packages/coso/VisCoSo_widget.py:94\u001b[0m, in \u001b[0;36mWidget.viscoso_widget\u001b[0;34m(self, sol)\u001b[0m\n\u001b[1;32m     90\u001b[0m \u001b[38;5;28;01mdef\u001b[39;00m \u001b[38;5;21mviscoso_widget\u001b[39m(\u001b[38;5;28mself\u001b[39m, sol):\n\u001b[1;32m     92\u001b[0m     html \u001b[38;5;241m=\u001b[39m sol\u001b[38;5;241m.\u001b[39mlog\u001b[38;5;241m.\u001b[39mto_viscoso_widget()\n\u001b[0;32m---> 94\u001b[0m     \u001b[38;5;28;01mclass\u001b[39;00m \u001b[38;5;21;01mVisCoSoWidget\u001b[39;00m(anywidget\u001b[38;5;241m.\u001b[39mAnyWidget):\n\u001b[1;32m     95\u001b[0m         _esm \u001b[38;5;241m=\u001b[39m \u001b[38;5;124m\"\"\"\u001b[39m\n\u001b[1;32m     96\u001b[0m \u001b[38;5;124m        function appendHtml(el, str) \u001b[39m\u001b[38;5;124m{\u001b[39m\n\u001b[1;32m     97\u001b[0m \u001b[38;5;124m            var div = document.createElement(\u001b[39m\u001b[38;5;124m'\u001b[39m\u001b[38;5;124mdiv\u001b[39m\u001b[38;5;124m'\u001b[39m\u001b[38;5;124m);\u001b[39m\n\u001b[0;32m   (...)\u001b[0m\n\u001b[1;32m    108\u001b[0m \u001b[38;5;124m        }\u001b[39m\n\u001b[1;32m    109\u001b[0m \u001b[38;5;124m        \u001b[39m\u001b[38;5;124m\"\"\"\u001b[39m\n\u001b[1;32m    110\u001b[0m         css_path \u001b[38;5;241m=\u001b[39m os\u001b[38;5;241m.\u001b[39mpath\u001b[38;5;241m.\u001b[39mjoin(ROOT_DIR, \u001b[38;5;124m\"\u001b[39m\u001b[38;5;124msrc\u001b[39m\u001b[38;5;124m\"\u001b[39m, \u001b[38;5;124m\"\u001b[39m\u001b[38;5;124mVisCoSo\u001b[39m\u001b[38;5;124m\"\u001b[39m, \u001b[38;5;124m\"\u001b[39m\u001b[38;5;124mcss\u001b[39m\u001b[38;5;124m\"\u001b[39m, \u001b[38;5;124m\"\u001b[39m\u001b[38;5;124mviscoso.css\u001b[39m\u001b[38;5;124m\"\u001b[39m)\n",
      "File \u001b[0;32m/media/windows/Users/pietr/Desktop/PhD/CoSo/pyenv/lib/python3.8/site-packages/coso/VisCoSo_widget.py:111\u001b[0m, in \u001b[0;36mWidget.viscoso_widget.<locals>.VisCoSoWidget\u001b[0;34m()\u001b[0m\n\u001b[1;32m     95\u001b[0m _esm \u001b[38;5;241m=\u001b[39m \u001b[38;5;124m\"\"\"\u001b[39m\n\u001b[1;32m     96\u001b[0m \u001b[38;5;124mfunction appendHtml(el, str) \u001b[39m\u001b[38;5;124m{\u001b[39m\n\u001b[1;32m     97\u001b[0m \u001b[38;5;124m    var div = document.createElement(\u001b[39m\u001b[38;5;124m'\u001b[39m\u001b[38;5;124mdiv\u001b[39m\u001b[38;5;124m'\u001b[39m\u001b[38;5;124m);\u001b[39m\n\u001b[0;32m   (...)\u001b[0m\n\u001b[1;32m    108\u001b[0m \u001b[38;5;124m}\u001b[39m\n\u001b[1;32m    109\u001b[0m \u001b[38;5;124m\u001b[39m\u001b[38;5;124m\"\"\"\u001b[39m\n\u001b[1;32m    110\u001b[0m css_path \u001b[38;5;241m=\u001b[39m os\u001b[38;5;241m.\u001b[39mpath\u001b[38;5;241m.\u001b[39mjoin(ROOT_DIR, \u001b[38;5;124m\"\u001b[39m\u001b[38;5;124msrc\u001b[39m\u001b[38;5;124m\"\u001b[39m, \u001b[38;5;124m\"\u001b[39m\u001b[38;5;124mVisCoSo\u001b[39m\u001b[38;5;124m\"\u001b[39m, \u001b[38;5;124m\"\u001b[39m\u001b[38;5;124mcss\u001b[39m\u001b[38;5;124m\"\u001b[39m, \u001b[38;5;124m\"\u001b[39m\u001b[38;5;124mviscoso.css\u001b[39m\u001b[38;5;124m\"\u001b[39m)\n\u001b[0;32m--> 111\u001b[0m _css \u001b[38;5;241m=\u001b[39m \u001b[38;5;28;43mopen\u001b[39;49m\u001b[43m(\u001b[49m\u001b[43mcss_path\u001b[49m\u001b[43m,\u001b[49m\u001b[43m \u001b[49m\u001b[38;5;124;43m\"\u001b[39;49m\u001b[38;5;124;43mr\u001b[39;49m\u001b[38;5;124;43m\"\u001b[39;49m\u001b[43m)\u001b[49m\u001b[38;5;241m.\u001b[39mread()\n\u001b[1;32m    112\u001b[0m value \u001b[38;5;241m=\u001b[39m traitlets\u001b[38;5;241m.\u001b[39mUnicode(html)\u001b[38;5;241m.\u001b[39mtag(sync\u001b[38;5;241m=\u001b[39m\u001b[38;5;28;01mTrue\u001b[39;00m)\n",
      "\u001b[0;31mFileNotFoundError\u001b[0m: [Errno 2] No such file or directory: '/media/windows/Users/pietr/Desktop/PhD/CoSo/pyenv/lib/python3.8/site-packages/src/VisCoSo/css/viscoso.css'"
     ]
    }
   ],
   "source": [
    "from coso.VisCoSo_widget import viscoso\n",
    "\n",
    "viscoso()"
   ]
  },
  {
   "cell_type": "markdown",
   "id": "72447b90",
   "metadata": {},
   "source": [
    "```{raw} html\n",
    ":file: src/VisCoSo/prova.html\n",
    "```"
   ]
  },
  {
   "cell_type": "code",
   "execution_count": null,
   "id": "f7138fd0",
   "metadata": {},
   "outputs": [],
   "source": []
  }
 ],
 "metadata": {
  "kernelspec": {
   "display_name": "Python 3",
   "language": "python",
   "name": "python3"
  },
  "language_info": {
   "codemirror_mode": {
    "name": "ipython",
    "version": 3
   },
   "file_extension": ".py",
   "mimetype": "text/x-python",
   "name": "python",
   "nbconvert_exporter": "python",
   "pygments_lexer": "ipython3",
   "version": "3.8.10"
  }
 },
 "nbformat": 4,
 "nbformat_minor": 5
}

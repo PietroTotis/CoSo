{
 "cells": [
  {
   "cell_type": "code",
   "execution_count": 1,
   "id": "dd8c897b",
   "metadata": {},
   "outputs": [],
   "source": [
    "import sys\n",
    "sys.path.append(\"src\")\n",
    "from launcher import coso"
   ]
  },
  {
   "cell_type": "code",
   "execution_count": 2,
   "id": "024d6958",
   "metadata": {},
   "outputs": [
    {
     "name": "stdout",
     "output_type": "stream",
     "text": [
      "Running solver...\n",
      "Solution: 2880 (12 subproblems)\n"
     ]
    }
   ],
   "source": [
    "coso(file=\"tests/check/test_2.txt\", visual=\"src/VisCoSo/prova.html\")"
   ]
  },
  {
   "cell_type": "code",
   "execution_count": null,
   "id": "f10c1ae2",
   "metadata": {},
   "outputs": [],
   "source": [
    "import sys\n",
    "sys.path.append(\"src\")\n",
    "from launcher import viscoso\n",
    "\n",
    "viscoso(file=\"tests/check/test_2.txt\")\n"
   ]
  },
  {
   "cell_type": "markdown",
   "id": "72447b90",
   "metadata": {},
   "source": [
    "```{raw} html\n",
    ":file: src/VisCoSo/prova.html\n",
    "```"
   ]
  },
  {
   "cell_type": "code",
   "execution_count": 12,
   "id": "87773fd9",
   "metadata": {
    "scrolled": true
   },
   "outputs": [
    {
     "data": {
      "application/vnd.jupyter.widget-view+json": {
       "model_id": "b2e1717df56a46dda6b72a322b48cbe1",
       "version_major": 2,
       "version_minor": 0
      },
      "text/plain": [
       "HTML(value='\\n            <script type=\"text/javascript\" src=\"http://cdn.mathjax.org/mathjax/latest/MathJax.js…"
      ]
     },
     "metadata": {},
     "output_type": "display_data"
    },
    {
     "data": {
      "application/vnd.jupyter.widget-view+json": {
       "model_id": "abb3c275ddfb4714bea7bf4df4168fed",
       "version_major": 2,
       "version_minor": 0
      },
      "text/plain": [
       "VBox(children=(Box(children=(Label(value='Upload a CoLa program:'), FileUpload(value=(), description='Upload')…"
      ]
     },
     "metadata": {},
     "output_type": "display_data"
    },
    {
     "data": {
      "application/vnd.jupyter.widget-view+json": {
       "model_id": "2fd39380d1af49d9800468bfbe1efa0d",
       "version_major": 2,
       "version_minor": 0
      },
      "text/plain": [
       "Button(description='Solve', icon='check', style=ButtonStyle(), tooltip='Solve')"
      ]
     },
     "metadata": {},
     "output_type": "display_data"
    },
    {
     "data": {
      "application/vnd.jupyter.widget-view+json": {
       "model_id": "aaed73d0eddf47b79e0c7ee3f26dce8d",
       "version_major": 2,
       "version_minor": 0
      },
      "text/plain": [
       "VisCoSoWidget()"
      ]
     },
     "metadata": {},
     "output_type": "display_data"
    }
   ],
   "source": [
    "import sys\n",
    "sys.path.append(\"src\")\n",
    "from VisCoSo_widget import viscoso\n",
    "viscoso()"
   ]
  },
  {
   "cell_type": "code",
   "execution_count": null,
   "id": "f7138fd0",
   "metadata": {},
   "outputs": [],
   "source": []
  }
 ],
 "metadata": {
  "kernelspec": {
   "display_name": "Python 3",
   "language": "python",
   "name": "python3"
  },
  "language_info": {
   "codemirror_mode": {
    "name": "ipython",
    "version": 3
   },
   "file_extension": ".py",
   "mimetype": "text/x-python",
   "name": "python",
   "nbconvert_exporter": "python",
   "pygments_lexer": "ipython3",
   "version": "3.8.10"
  }
 },
 "nbformat": 4,
 "nbformat_minor": 5
}
